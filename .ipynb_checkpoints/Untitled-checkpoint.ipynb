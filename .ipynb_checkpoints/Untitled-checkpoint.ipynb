{
 "cells": [
  {
   "cell_type": "code",
   "execution_count": 12,
   "metadata": {},
   "outputs": [],
   "source": [
    "class data_merge():\n",
    "    \n",
    "    def __init__(self,src_file_path,target_file_path):\n",
    "        \n",
    "        \"\"\"\n",
    "         Initize the class object with the required informations as below \n",
    "         \n",
    "         Manadatory Parameters:\n",
    "         \n",
    "         src_file_path : Pass the source file path  eg : 'app\\input\\InstrumentDetails.csv.csv'\n",
    "         \n",
    "         target_file_path : Pass the targe file path eg : 'app\\inpout\\PositionDetails.csv'\n",
    "         \n",
    "        \"\"\"\n",
    "        import pandas as pd\n",
    "        import numpy as np\n",
    "\n",
    "        self.source_table = pd.read_csv(src_file_path)#dtype={\"client_id\" :\"float\" ,\"consumer_zip\" : \"float\" })\n",
    "        self.target_table = pd.read_csv(target_file_path)\n",
    "        \n",
    "        print(self.source_table.shape)\n",
    "        print(self.target_table.shape)\n",
    "        \n",
    "        self.combined = pd.merge(self.source_table,self.target_table,how='left',left_on='ISIN',right_on='ISIN')\n",
    "        print(self.combined)\n",
    "        self.combined['price'] = self.combined['Quantity'] * self.combined['Unit_Price']\n",
    "        print(self.combined)\n",
    "\n"
   ]
  },
  {
   "cell_type": "code",
   "execution_count": 15,
   "metadata": {},
   "outputs": [
    {
     "name": "stdout",
     "output_type": "stream",
     "text": [
      "(4, 4)\n",
      "(4, 3)\n",
      "   ID_x      Name  ISIN  Unit_Price  ID_y  Quantity\n",
      "0     1       Box  1111        1000    11         2\n",
      "1     2  Iron rod  2222        2000    22         3\n",
      "2     3       Car  3333        3000    33         4\n",
      "3     4     Truck  4444        4000    44         5\n",
      "   ID_x      Name  ISIN  Unit_Price  ID_y  Quantity  price\n",
      "0     1       Box  1111        1000    11         2   2000\n",
      "1     2  Iron rod  2222        2000    22         3   6000\n",
      "2     3       Car  3333        3000    33         4  12000\n",
      "3     4     Truck  4444        4000    44         5  20000\n"
     ]
    }
   ],
   "source": [
    "import input\n",
    "import pandas as pd\n",
    "\n",
    "obj = data_merge(r\"input/InstrumentDetails.csv\", r\"input/PositionDetails.csv\")\n",
    "\n",
    "obj.combined.to_csv(\"output/PositionReport.csv\")"
   ]
  }
 ],
 "metadata": {
  "kernelspec": {
   "display_name": "Python 3",
   "language": "python",
   "name": "python3"
  },
  "language_info": {
   "codemirror_mode": {
    "name": "ipython",
    "version": 3
   },
   "file_extension": ".py",
   "mimetype": "text/x-python",
   "name": "python",
   "nbconvert_exporter": "python",
   "pygments_lexer": "ipython3",
   "version": "3.8.8"
  }
 },
 "nbformat": 4,
 "nbformat_minor": 4
}
