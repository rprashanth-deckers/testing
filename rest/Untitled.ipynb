{
 "cells": [
  {
   "cell_type": "code",
   "execution_count": 55,
   "id": "95dc6ca6",
   "metadata": {},
   "outputs": [],
   "source": [
    "import unittest\n",
    "\n",
    "class Test_suite(unittest.TestCase):\n",
    "    import requests\n",
    "\n",
    "\n",
    "    def get(self,api):\n",
    "        response = requests.get(api)\n",
    "        return response\n",
    "    \n",
    "    def create_api(self,api,payload):\n",
    "        reponse = requests.post(url=api,json=payload)\n",
    "        print(reponse)\n",
    "        return reponse\n",
    "    \n",
    "    \n",
    "    def test1(self):\n",
    "    \n",
    "        resp = self.get('https://reqres.in/api/users/2')\n",
    "\n",
    "        if resp.status_code == 200:\n",
    "            print(\"pass\")\n",
    "            \n",
    "    def test2(self):\n",
    "        \n",
    "        resp_create = self.create_api('https://reqres.in/api/users',{\"name\" : \"morpheus\" , \"job\" : \"leader\"})\n",
    "        \n",
    "        \n",
    "        if resp_create.status_code == 201:\n",
    "            print(pass)\n",
    "        \n",
    "        \n"
   ]
  },
  {
   "cell_type": "code",
   "execution_count": 56,
   "id": "830f9d20",
   "metadata": {},
   "outputs": [
    {
     "name": "stdout",
     "output_type": "stream",
     "text": [
      "<Response [201]>\n",
      "201\n"
     ]
    }
   ],
   "source": [
    "\n",
    "obj = Test_suite()\n",
    "\n",
    "obj.test2()\n",
    "    "
   ]
  },
  {
   "cell_type": "code",
   "execution_count": 41,
   "id": "b9c3723b",
   "metadata": {},
   "outputs": [
    {
     "data": {
      "text/plain": [
       "<Response [201]>"
      ]
     },
     "execution_count": 41,
     "metadata": {},
     "output_type": "execute_result"
    }
   ],
   "source": [
    "requests.post(url='https://reqres.in/api/users',json={\"name\" : \"morpheus\" , \"job\" : \"leader\"})"
   ]
  }
 ],
 "metadata": {
  "kernelspec": {
   "display_name": "Python 3",
   "language": "python",
   "name": "python3"
  },
  "language_info": {
   "codemirror_mode": {
    "name": "ipython",
    "version": 3
   },
   "file_extension": ".py",
   "mimetype": "text/x-python",
   "name": "python",
   "nbconvert_exporter": "python",
   "pygments_lexer": "ipython3",
   "version": "3.8.8"
  }
 },
 "nbformat": 4,
 "nbformat_minor": 5
}
